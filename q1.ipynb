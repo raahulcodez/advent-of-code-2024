{
 "cells": [
  {
   "cell_type": "code",
   "execution_count": 27,
   "metadata": {},
   "outputs": [
    {
     "name": "stdout",
     "output_type": "stream",
     "text": [
      "1765812\n"
     ]
    }
   ],
   "source": [
    "import pandas as pd\n",
    "\n",
    "df = pd.read_csv('q1.txt', sep='\\s+', header=None, names=['x', 'y'])\n",
    "\n",
    "sorted_x = df['x'].sort_values(ascending=True).reset_index(drop=True)\n",
    "sorted_y = df['y'].sort_values(ascending=True).reset_index(drop=True)\n",
    "\n",
    "df['sorted_x'] = sorted_x\n",
    "df['sorted_y'] = sorted_y\n",
    "\n",
    "df['diff'] = abs(df['sorted_x'] - df['sorted_y'])\n",
    "print(sum(df['diff']))"
   ]
  },
  {
   "cell_type": "code",
   "execution_count": null,
   "metadata": {},
   "outputs": [],
   "source": [
    "from collections import Counter\n",
    "\n",
    "similarity_score = 0\n",
    "right_count = Counter(df['sorted_y'])\n",
    "\n",
    "for num in df['sorted_x']:\n",
    "    similarity_score += num * right_count[num]\n",
    "\n",
    "print(f\"Similarity Score: {similarity_score}\")"
   ]
  }
 ],
 "metadata": {
  "kernelspec": {
   "display_name": "Python 3",
   "language": "python",
   "name": "python3"
  },
  "language_info": {
   "codemirror_mode": {
    "name": "ipython",
    "version": 3
   },
   "file_extension": ".py",
   "mimetype": "text/x-python",
   "name": "python",
   "nbconvert_exporter": "python",
   "pygments_lexer": "ipython3",
   "version": "3.11.9"
  }
 },
 "nbformat": 4,
 "nbformat_minor": 2
}
